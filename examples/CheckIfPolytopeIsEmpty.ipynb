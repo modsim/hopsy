{
 "cells": [
  {
   "cell_type": "markdown",
   "id": "b03740d7-8a0a-419b-aa4a-26f0a1c5f017",
   "metadata": {},
   "source": [
    "# Checking polytope feasibility\n",
    "\n",
    "It is useful to check problems and polytopes, whether they are empty before sampling or when encountering issues.\n",
    "For this purpose, hopsy provides simple functions, which we will show on examples in this notebook."
   ]
  },
  {
   "cell_type": "code",
   "execution_count": 1,
   "id": "5bf6388c-1a8d-4f21-ae05-6995aa5791c2",
   "metadata": {},
   "outputs": [],
   "source": [
    "import hopsy\n",
    "import numpy as np"
   ]
  },
  {
   "cell_type": "markdown",
   "id": "800d3e5f-53f8-49f6-a026-a3fb4d95f8db",
   "metadata": {},
   "source": [
    "## Example 1: empty polytope x < 1 and x > 2"
   ]
  },
  {
   "cell_type": "code",
   "execution_count": 2,
   "id": "72718950-f35e-41ba-a53d-34d6fce1296d",
   "metadata": {},
   "outputs": [
    {
     "name": "stdout",
     "output_type": "stream",
     "text": [
      "Set parameter Username\n",
      "Academic license - for non-commercial use only - expires 2023-11-30\n"
     ]
    }
   ],
   "source": [
    "empty_A = np.array([[1], [-1]])\n",
    "empty_b = np.array([1, -2])\n",
    "empty_problem = hopsy.Problem(empty_A, empty_b)\n",
    "\n",
    "# option 1: check np.arrays directly\n",
    "assert hopsy.is_polytope_empty(empty_A, empty_b) == True\n",
    "\n",
    "# option 2: check hopsy.Problem \n",
    "assert hopsy.is_problem_polytope_empty(empty_problem) == True"
   ]
  },
  {
   "cell_type": "markdown",
   "id": "8584a8ca-8f44-4726-9f75-612af2973b77",
   "metadata": {},
   "source": [
    "## Example 2: valid polytope x < 1 and x > 0"
   ]
  },
  {
   "cell_type": "code",
   "execution_count": 3,
   "id": "70120e62-71be-49f9-acf0-b794d5178334",
   "metadata": {},
   "outputs": [],
   "source": [
    "valid_A = np.array([[1], [-1]])\n",
    "valid_b = np.array([1, 0])\n",
    "valid_problem = hopsy.Problem(valid_A, valid_b)\n",
    "\n",
    "# option 1: check np.arrays directly\n",
    "assert hopsy.is_polytope_empty(valid_A, valid_b) == False\n",
    "\n",
    "# option 2: check hopsy.Problem \n",
    "assert hopsy.is_problem_polytope_empty(valid_problem) == False"
   ]
  },
  {
   "cell_type": "markdown",
   "id": "571419cb-fb5e-4f6d-bfc6-7db15c28f748",
   "metadata": {},
   "source": [
    "## Example 3: invalid polytope x < 1 and x > 0 and x=5"
   ]
  },
  {
   "cell_type": "code",
   "execution_count": 5,
   "id": "c0aac3a5-a472-403f-8e4f-35e8617e79ef",
   "metadata": {},
   "outputs": [
    {
     "name": "stdout",
     "output_type": "stream",
     "text": [
      "model in infeasible state, resetting lp\n",
      "Solver status: infeasible\n"
     ]
    },
    {
     "name": "stderr",
     "output_type": "stream",
     "text": [
      "/home/jadebeck/repos/hopsy/test-venv/lib/python3.10/site-packages/hopsy/misc.py:240: DeprecationWarning: invalid escape sequence '\\l'\n",
      "  \"\"\"\n",
      "/home/jadebeck/repos/hopsy/test-venv/lib/python3.10/site-packages/hopsy/misc.py:337: DeprecationWarning: invalid escape sequence '\\l'\n",
      "  \"\"\"\n"
     ]
    },
    {
     "ename": "ValueError",
     "evalue": "Adding these equality constraints makes the problem infeasible! Check the problem and/or the LP().settings",
     "output_type": "error",
     "traceback": [
      "\u001b[0;31m---------------------------------------------------------------------------\u001b[0m",
      "\u001b[0;31mValueError\u001b[0m                                Traceback (most recent call last)",
      "File \u001b[0;32m~/repos/hopsy/test-venv/lib/python3.10/site-packages/hopsy/misc.py:189\u001b[0m, in \u001b[0;36madd_equality_constraints\u001b[0;34m(problem, A_eq, b_eq, simplify)\u001b[0m\n\u001b[1;32m    188\u001b[0m     _s\u001b[38;5;241m.\u001b[39mwarnings\u001b[38;5;241m.\u001b[39msimplefilter(\u001b[38;5;124m\"\u001b[39m\u001b[38;5;124mignore\u001b[39m\u001b[38;5;124m\"\u001b[39m)\n\u001b[0;32m--> 189\u001b[0m     polytope \u001b[38;5;241m=\u001b[39m \u001b[43m_s\u001b[49m\u001b[38;5;241;43m.\u001b[39;49m\u001b[43mPolyRoundApi\u001b[49m\u001b[38;5;241;43m.\u001b[39;49m\u001b[43msimplify_polytope\u001b[49m\u001b[43m(\u001b[49m\u001b[43mpolytope\u001b[49m\u001b[43m,\u001b[49m\u001b[43m \u001b[49m\u001b[43m_c\u001b[49m\u001b[38;5;241;43m.\u001b[39;49m\u001b[43mLP\u001b[49m\u001b[43m(\u001b[49m\u001b[43m)\u001b[49m\u001b[38;5;241;43m.\u001b[39;49m\u001b[43msettings\u001b[49m\u001b[43m)\u001b[49m\n\u001b[1;32m    191\u001b[0m \u001b[38;5;66;03m# transform_polytope carries out dimension reduction due to equality constraints if possible\u001b[39;00m\n",
      "File \u001b[0;32m~/repos/hopsy/test-venv/lib/python3.10/site-packages/PolyRound/api.py:46\u001b[0m, in \u001b[0;36mPolyRoundApi.simplify_polytope\u001b[0;34m(polytope, settings, normalize)\u001b[0m\n\u001b[1;32m     45\u001b[0m \u001b[38;5;28;01mwhile\u001b[39;00m (removed \u001b[38;5;241m!=\u001b[39m \u001b[38;5;241m0\u001b[39m \u001b[38;5;129;01mor\u001b[39;00m refunctioned \u001b[38;5;241m!=\u001b[39m \u001b[38;5;241m0\u001b[39m) \u001b[38;5;129;01mand\u001b[39;00m polytope\u001b[38;5;241m.\u001b[39mA\u001b[38;5;241m.\u001b[39msize \u001b[38;5;241m>\u001b[39m \u001b[38;5;241m0\u001b[39m:\n\u001b[0;32m---> 46\u001b[0m     polytope, removed, refunctioned \u001b[38;5;241m=\u001b[39m \u001b[43mPolytopeReducer\u001b[49m\u001b[38;5;241;43m.\u001b[39;49m\u001b[43mconstraint_removal\u001b[49m\u001b[43m(\u001b[49m\n\u001b[1;32m     47\u001b[0m \u001b[43m        \u001b[49m\u001b[43mpolytope\u001b[49m\u001b[43m,\u001b[49m\n\u001b[1;32m     48\u001b[0m \u001b[43m        \u001b[49m\u001b[43msettings\u001b[49m\u001b[43m,\u001b[49m\n\u001b[1;32m     49\u001b[0m \u001b[43m    \u001b[49m\u001b[43m)\u001b[49m\n\u001b[1;32m     50\u001b[0m \u001b[38;5;28;01mif\u001b[39;00m polytope\u001b[38;5;241m.\u001b[39mA\u001b[38;5;241m.\u001b[39mshape[\u001b[38;5;241m0\u001b[39m] \u001b[38;5;241m==\u001b[39m \u001b[38;5;241m0\u001b[39m:\n",
      "File \u001b[0;32m~/repos/hopsy/test-venv/lib/python3.10/site-packages/PolyRound/static_classes/constraint_removal_reduction.py:42\u001b[0m, in \u001b[0;36mPolytopeReducer.constraint_removal\u001b[0;34m(polytope, settings)\u001b[0m\n\u001b[1;32m     41\u001b[0m \u001b[38;5;66;03m# start = time.time()\u001b[39;00m\n\u001b[0;32m---> 42\u001b[0m m, removed, refunctioned \u001b[38;5;241m=\u001b[39m \u001b[43mPolytopeReducer\u001b[49m\u001b[38;5;241;43m.\u001b[39;49m\u001b[43mconstraint_removal_loop\u001b[49m\u001b[43m(\u001b[49m\u001b[43mm\u001b[49m\u001b[43m,\u001b[49m\u001b[43m \u001b[49m\u001b[43msettings\u001b[49m\u001b[43m)\u001b[49m\n\u001b[1;32m     43\u001b[0m \u001b[38;5;66;03m# print(time.time() - start)\u001b[39;00m\n",
      "File \u001b[0;32m~/repos/hopsy/test-venv/lib/python3.10/site-packages/PolyRound/static_classes/constraint_removal_reduction.py:75\u001b[0m, in \u001b[0;36mPolytopeReducer.constraint_removal_loop\u001b[0;34m(m, settings)\u001b[0m\n\u001b[1;32m     74\u001b[0m m\u001b[38;5;241m.\u001b[39moptimize()\n\u001b[0;32m---> 75\u001b[0m max_val \u001b[38;5;241m=\u001b[39m \u001b[43mOptlangInterfacer\u001b[49m\u001b[38;5;241;43m.\u001b[39;49m\u001b[43mget_opt\u001b[49m\u001b[43m(\u001b[49m\u001b[43mm\u001b[49m\u001b[43m,\u001b[49m\u001b[43m \u001b[49m\u001b[43msettings\u001b[49m\u001b[43m)\u001b[49m\n\u001b[1;32m     76\u001b[0m \u001b[38;5;28;01mif\u001b[39;00m settings\u001b[38;5;241m.\u001b[39mreduce:\n\u001b[1;32m     77\u001b[0m     \u001b[38;5;66;03m# now get altered problem\u001b[39;00m\n",
      "File \u001b[0;32m~/repos/hopsy/test-venv/lib/python3.10/site-packages/PolyRound/static_classes/lp_interfacing.py:324\u001b[0m, in \u001b[0;36mOptlangInterfacer.get_opt\u001b[0;34m(m, settings)\u001b[0m\n\u001b[1;32m    323\u001b[0m         \u001b[38;5;28mprint\u001b[39m(\u001b[38;5;124m\"\u001b[39m\u001b[38;5;124mSolver status: \u001b[39m\u001b[38;5;124m\"\u001b[39m \u001b[38;5;241m+\u001b[39m \u001b[38;5;28mstr\u001b[39m(m\u001b[38;5;241m.\u001b[39mstatus))\n\u001b[0;32m--> 324\u001b[0m         \u001b[38;5;28;01mraise\u001b[39;00m \u001b[38;5;167;01mValueError\u001b[39;00m(\u001b[38;5;124m\"\u001b[39m\u001b[38;5;124mOptimization fails despite resetting\u001b[39m\u001b[38;5;124m\"\u001b[39m)\n\u001b[1;32m    325\u001b[0m \u001b[38;5;28;01melse\u001b[39;00m:\n",
      "\u001b[0;31mValueError\u001b[0m: Optimization fails despite resetting",
      "\nDuring handling of the above exception, another exception occurred:\n",
      "\u001b[0;31mValueError\u001b[0m                                Traceback (most recent call last)",
      "Cell \u001b[0;32mIn[5], line 8\u001b[0m\n\u001b[1;32m      5\u001b[0m invalid_equality_bounds \u001b[38;5;241m=\u001b[39m np\u001b[38;5;241m.\u001b[39marray([\u001b[38;5;241m5\u001b[39m])\n\u001b[1;32m      7\u001b[0m valid_problem \u001b[38;5;241m=\u001b[39m hopsy\u001b[38;5;241m.\u001b[39mProblem(valid_A, valid_b)\n\u001b[0;32m----> 8\u001b[0m invalid_problem \u001b[38;5;241m=\u001b[39m \u001b[43mhopsy\u001b[49m\u001b[38;5;241;43m.\u001b[39;49m\u001b[43madd_equality_constraints\u001b[49m\u001b[43m(\u001b[49m\u001b[43mvalid_problem\u001b[49m\u001b[43m,\u001b[49m\u001b[43m \u001b[49m\u001b[43mA_eq\u001b[49m\u001b[38;5;241;43m=\u001b[39;49m\u001b[43minvalid_equality_constraint_matrix\u001b[49m\u001b[43m,\u001b[49m\u001b[43m \u001b[49m\u001b[43mb_eq\u001b[49m\u001b[38;5;241;43m=\u001b[39;49m\u001b[43minvalid_equality_bounds\u001b[49m\u001b[43m)\u001b[49m\n\u001b[1;32m     10\u001b[0m \u001b[38;5;66;03m# option 1: check np.arrays directly\u001b[39;00m\n\u001b[1;32m     11\u001b[0m \u001b[38;5;28;01massert\u001b[39;00m hopsy\u001b[38;5;241m.\u001b[39mis_polytope_empty(valid_A, valid_b, invalid_equality_constraint_matrix, invalid_equality_bounds) \u001b[38;5;241m==\u001b[39m \u001b[38;5;28;01mTrue\u001b[39;00m\n",
      "File \u001b[0;32m~/repos/hopsy/test-venv/lib/python3.10/site-packages/hopsy/misc.py:204\u001b[0m, in \u001b[0;36madd_equality_constraints\u001b[0;34m(problem, A_eq, b_eq, simplify)\u001b[0m\n\u001b[1;32m    202\u001b[0m     \u001b[38;5;28;01mreturn\u001b[39;00m _problem\n\u001b[1;32m    203\u001b[0m \u001b[38;5;28;01mexcept\u001b[39;00m \u001b[38;5;167;01mValueError\u001b[39;00m \u001b[38;5;28;01mas\u001b[39;00m e:\n\u001b[0;32m--> 204\u001b[0m     \u001b[38;5;28;01mraise\u001b[39;00m \u001b[38;5;167;01mValueError\u001b[39;00m(\u001b[38;5;124m\"\u001b[39m\u001b[38;5;124mAdding these equality constraints makes the problem infeasible! Check the problem and/or the LP().settings\u001b[39m\u001b[38;5;124m\"\u001b[39m)\n",
      "\u001b[0;31mValueError\u001b[0m: Adding these equality constraints makes the problem infeasible! Check the problem and/or the LP().settings"
     ]
    }
   ],
   "source": [
    "valid_A = np.array([[1], [-1]])\n",
    "valid_b = np.array([1, 0])\n",
    "\n",
    "invalid_equality_constraint_matrix = np.array([[1]])\n",
    "invalid_equality_bounds = np.array([5])\n",
    "\n",
    "valid_problem = hopsy.Problem(valid_A, valid_b)\n",
    "\n",
    "# option 1: check np.arrays directly\n",
    "assert hopsy.is_polytope_empty(valid_A, valid_b, invalid_equality_constraint_matrix, invalid_equality_bounds) == True\n",
    "\n",
    "# option 2: There is no way to add invalid equality constraints using add_equality_constraints. hopsy will \n",
    "# directly raise a ValueError, because LP manipulations are required when simplifyin\n",
    "try:\n",
    "    invalid_problem = hopsy.add_equality_constraints(valid_problem, A_eq=invalid_equality_constraint_matrix, b_eq=invalid_equality_bounds)\n",
    "    hopsy.is_problem_polytope_empty(valid_problem) == True\n",
    "    "
   ]
  },
  {
   "cell_type": "code",
   "execution_count": null,
   "id": "b5202072-f8a7-461e-a561-14d0328dc3f5",
   "metadata": {},
   "outputs": [],
   "source": []
  }
 ],
 "metadata": {
  "kernelspec": {
   "display_name": "Python 3 (ipykernel)",
   "language": "python",
   "name": "python3"
  },
  "language_info": {
   "codemirror_mode": {
    "name": "ipython",
    "version": 3
   },
   "file_extension": ".py",
   "mimetype": "text/x-python",
   "name": "python",
   "nbconvert_exporter": "python",
   "pygments_lexer": "ipython3",
   "version": "3.10.12"
  }
 },
 "nbformat": 4,
 "nbformat_minor": 5
}
