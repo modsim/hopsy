{
 "cells": [
  {
   "cell_type": "markdown",
   "metadata": {
    "jupyter": {
     "outputs_hidden": false
    }
   },
   "source": [
    "# Benchmarking Multiphase Monte Carlo Sampling"
   ]
  },
  {
   "cell_type": "markdown",
   "metadata": {
    "jupyter": {
     "outputs_hidden": false
    }
   },
   "source": [
    "# Motivation\n",
    "\n",
    "As a methods researcher one is often interested in testing new methods and benchmarking them together with state-of-the-art algorithms.\n",
    "hopsy provides the framework for conducting such comparisons, because it allows the methods researcher to focus on the algorithms, while the scaffolding, i.e., I/O, convergence diagnostics, and state-of-the-art implementations of existing algorithms are provided.\n",
    "\n",
    "\n",
    "We show in this notebook how one can adapt build a multiphase monte carlo sampling plugin for hopsy"
   ]
  },
  {
   "cell_type": "markdown",
   "metadata": {
    "jupyter": {
     "outputs_hidden": false
    }
   },
   "source": [
    "## Background\n",
    "Instead of rounding before sampling, multiphase monte carlo sampling rounds adaptively based on the samples of the Markov chain during a run.\n",
    "It has been reported to be an efficient strategy, if the underlying Markov chain is efficient enough.\n",
    "\n",
    "The Idea has found previous adaption in the artificially centered coordinate hit-and-run and the optGP sampler.\n",
    "However, Coordinate Hit-and-Run Rounded showed greater and more stable performance (https://pubmed.ncbi.nlm.nih.gov/28158334/) than both of those algorithms.\n",
    "\n",
    "The idea is resurrected and shown to be efficient given a better Markov chain implementation.\n",
    "See https://drops.dagstuhl.de/opus/volltexte/2021/13820/pdf/LIPIcs-SoCG-2021-21.pdf"
   ]
  },
  {
   "cell_type": "code",
   "execution_count": 181,
   "metadata": {
    "collapsed": false,
    "jupyter": {
     "outputs_hidden": false
    }
   },
   "outputs": [],
   "source": [
    "import arviz\n",
    "import hopsy\n",
    "from matplotlib import pyplot as plt\n",
    "import numpy as np\n",
    "from typing import List\n",
    "import time\n",
    "import PolyRound"
   ]
  },
  {
   "cell_type": "code",
   "execution_count": 188,
   "metadata": {
    "tags": []
   },
   "outputs": [],
   "source": [
    "# rounding based on samples, as suggested in https://drops.dagstuhl.de/opus/volltexte/2021/13820/pdf/LIPIcs-SoCG-2021-21.pdf \n",
    "def svd_rounding(samples, problem):\n",
    "    # We concatenate them samples to [n_dim, n_iterations] for rounding\n",
    "    print(\"A\", problem.A.shape)\n",
    "    print(\"b\", problem.b.shape)\n",
    "    print(\"T\", problem.transformation.shape)\n",
    "    print(\"shift\", problem.shift.shape)\n",
    "    print(\"samples\", samples.shape)\n",
    "    stacked_samples = np.concatenate(samples, axis=0)\n",
    "    print('s', stacked_samples.shape)\n",
    "    stacked_samples = hopsy.transform(problem, [stacked_samples[i,:].flatten() for i in range(stacked_samples.shape[0])])\n",
    "    print(\"s'\", stacked_samples.shape)\n",
    "    U, S, Vh = np.linalg.svd(stacked_samples)\n",
    "    # Rescaling as mentioned in  https://drops.dagstuhl.de/opus/volltexte/2021/13820/pdf/LIPIcs-SoCG-2021-21.pdf\n",
    "    s_ratio = np.max(S) / np.min(S)\n",
    "    S = S / np.min(S)\n",
    "    if np.max(S) >= 2.0 :\n",
    "        S[np.where(S > 2.0)] = 2.\n",
    "    rounding_matrix = Vh.dot(np.diag(S))\n",
    "\n",
    "    # We do not want to use all transforms to transform the mcmc state space. Instead we use only the one from the current iteration\n",
    "    sub_problem = hopsy.Problem(problem.A,  problem.b, transformation=rounding_matrix)\n",
    "    starting_points = hopsy.transform(sub_problem, [samples[i, -1, :] for i in range(samples.shape[0])])\n",
    "    \n",
    "    print(\"A\", problem.A.shape)\n",
    "    print(\"R\", rounding_matrix.shape)\n",
    "    problem.A = problem.A.dot(rounding_matrix)\n",
    "    problem.transformation = rounding_matrix if problem.transformation is None else problem.transformation.dot(rounding_matrix )\n",
    "    \n",
    "    return s_ratio, starting_points, problem"
   ]
  },
  {
   "cell_type": "code",
   "execution_count": 189,
   "metadata": {
    "tags": []
   },
   "outputs": [],
   "source": [
    "# creating a custom proposal to plug in to hopsy, in this case based on https://ui.adsabs.harvard.edu/abs/2015IJMPC..2650010D/abstract\n",
    "class OverrelaxedHitAndRunProposal:\n",
    "    def __init__(self, problem: hopsy.Problem, starting_point: np.ndarray, epsilon: float=1e-10):\n",
    "        self.A = problem.A\n",
    "        self.b = problem.b\n",
    "        self.state = starting_point\n",
    "        self.proposal = self.state\n",
    "        self.epsilon = epsilon\n",
    "        \n",
    "    def propose(self, rng) -> np.ndarray:\n",
    "        \"\"\"This method is called by hopsy.MarkovChain. Returns the proposal\"\"\"\n",
    "        direction = np.random.randn(self.state.shape[0])\n",
    "        direction /= np.linalg.norm(direction, axis=0)\n",
    "        \n",
    "        inverse_distances = np.nan_to_num(np.divide(self.A@direction, self.b-self.A@self.state, self.A@direction))\n",
    "        forward_distance = 1. / np.max(inverse_distances)\n",
    "        backward_distance = 1. / np.min(inverse_distances)\n",
    "        \n",
    "        L = forward_distance - backward_distance\n",
    "        a = 2*(-backward_distance) / L - 1\n",
    "        if a == 0:\n",
    "            a = self.epsilon\n",
    "        t_1 = L * (1 + a - np.sqrt((1 + a) ** 2  - 4 * a * np.random.uniform())) / (2 * a);\n",
    "        t_0 = -backward_distance;\n",
    "        \n",
    "        self.proposal = self.state + (t_1 - t_0) * direction;\n",
    "        return self.proposal"
   ]
  },
  {
   "cell_type": "code",
   "execution_count": 190,
   "metadata": {},
   "outputs": [],
   "source": [
    "def run_multiphase_sampling(proposal, problem: hopsy.Problem, seeds: List, target_ess: float, steps_per_phase: int, starting_points: List):\n",
    "    limit_singular_ratio_value = 3  # from https://drops.dagstuhl.de/opus/volltexte/2021/13820/pdf/LIPIcs-SoCG-2021-21.pdf\n",
    "    assert(len(starting_points) == len(seeds))\n",
    "    rngs = [hopsy.RandomNumberGenerator(s) for s in seeds]\n",
    "\n",
    "    ess = 0\n",
    "    iterations = 0\n",
    "    s_ratio = limit_singular_ratio_value + 1\n",
    "    sampling_time = 0\n",
    "    while ess < target_ess:\n",
    "        iterations += 1\n",
    "        markov_chains = [hopsy.MarkovChain(problem, proposal, starting_point=s) for s in starting_points]\n",
    "\n",
    "        start = time.time()\n",
    "        acceptance_rate, _samples = hopsy.sample(markov_chains, rngs, n_samples=steps_per_phase, thinning=1, n_procs=1)\n",
    "        end = time.time()\n",
    "        sampling_time += end-start\n",
    "        print('\\titer:', iterations)\n",
    "\n",
    "        if s_ratio > limit_singular_ratio_value:\n",
    "            # also measures the rounding time\n",
    "            start = time.time()\n",
    "            s_ratio, starting_points, problem = svd_rounding(_samples, problem)\n",
    "            end = time.time()\n",
    "            sampling_time += end-start\n",
    "            print('\\ts_ratio:', s_ratio)\n",
    "            samples = _samples\n",
    "        else:\n",
    "            print('\\tno adaptive rounding')\n",
    "            samples = np.concatenate((samples, _samples), axis=1)\n",
    "            starting_points =  samples[:, -1, :]\n",
    "            \n",
    "        ess = np.min(hopsy.ess(samples))\n",
    "        print('\\tess', str(ess) + ',', 'samples', samples.shape[1])\n",
    "\n",
    "    return samples, iterations, ess, sampling_time\n",
    "\n",
    "\n",
    "def run_sampling(proposal, problem: hopsy.Problem, seeds: List, target_ess: float, steps_per_phase: int, starting_points: List, thinning=None):\n",
    "    rngs = [hopsy.RandomNumberGenerator(s) for s in seeds]\n",
    "\n",
    "    thinning = thinning if thinning is not None else int(float(problem.A.shape[1]**2)/6)\n",
    "    ess = 0\n",
    "    iterations = 0\n",
    "    # also measures the rounding time\n",
    "    start = time.time()\n",
    "    rounded_problem = hopsy.round(problem)\n",
    "    end = time.time()\n",
    "    sampling_time = end - start\n",
    "    samples = None\n",
    "    markov_chains = [hopsy.MarkovChain(problem=rounded_problem, starting_point=s) for s in starting_points]\n",
    "    while ess < target_ess:\n",
    "        iterations += 1\n",
    "        print('\\titer:', iterations)\n",
    "        for i in range(len(starting_points)):\n",
    "            markov_chains[i].proposal = proposal(rounded_problem, starting_point=starting_points[i])\n",
    "        \n",
    "        start = time.time()\n",
    "        acceptance_rate, _samples = hopsy.sample(markov_chains, rngs, n_samples=steps_per_phase, thinning=thinning, n_procs=1)\n",
    "        end = time.time()\n",
    "        sampling_time += end-start\n",
    "\n",
    "        samples = _samples if samples is None else np.concatenate((samples, _samples), axis=1)\n",
    "        starting_points =  hopsy.transform(rounded_problem, samples[:, -1, :])\n",
    "            \n",
    "        ess = np.min(hopsy.ess(samples))\n",
    "        print('\\tess', str(ess) + ',', 'samples', samples.shape[1])\n",
    "\n",
    "    return samples, iterations, ess, sampling_time"
   ]
  },
  {
   "cell_type": "code",
   "execution_count": 191,
   "metadata": {},
   "outputs": [],
   "source": [
    "# general parameters\n",
    "target_ess = 1000\n",
    "proposalTypes = {\n",
    "    \"Billiard walk\": hopsy.BilliardWalkProposal, \n",
    "    \"CHRRT\": hopsy.UniformCoordinateHitAndRunProposal,\n",
    "#     \"OHRR\": OverrelaxedHitAndRunProposal,\n",
    "}\n",
    "\n",
    "seeds = [1, 2, 3, 4]\n",
    "\n",
    "def generate_problem(name):\n",
    "    if name == \"BP5\":\n",
    "        bp = hopsy.BirkhoffPolytope(5)\n",
    "        problem = hopsy.Problem(bp.A, bp.b)\n",
    "        return problem\n",
    "    elif name == \"e_coli\":\n",
    "        polytope = PolyRound.static_classes.parse_sbml_stoichiometry.StoichiometryParser.parse_sbml_cobrapy('../extern/hops/resources/e_coli_core/e_coli_core.xml')\n",
    "        problem = hopsy.add_equality_constraints(hopsy.Problem(polytope.A, polytope.b), polytope.S, polytope.h)\n",
    "        return problem"
   ]
  },
  {
   "cell_type": "code",
   "execution_count": 192,
   "metadata": {},
   "outputs": [
    {
     "name": "stdout",
     "output_type": "stream",
     "text": [
      "running benchmark for Billiard walk\n",
      "\titer: 1\n",
      "A (36, 24)\n",
      "b (36,)\n",
      "T (95, 24)\n",
      "shift (95,)\n",
      "samples (4, 480, 95)\n",
      "s (1920, 95)\n"
     ]
    },
    {
     "ename": "LinAlgError",
     "evalue": "Last 2 dimensions of the array must be square",
     "output_type": "error",
     "traceback": [
      "\u001b[0;31m---------------------------------------------------------------------------\u001b[0m",
      "\u001b[0;31mLinAlgError\u001b[0m                               Traceback (most recent call last)",
      "\u001b[0;32m<ipython-input-192-cf00ba384f91>\u001b[0m in \u001b[0;36m<module>\u001b[0;34m\u001b[0m\n\u001b[1;32m     14\u001b[0m \u001b[0;34m\u001b[0m\u001b[0m\n\u001b[1;32m     15\u001b[0m     \u001b[0;32mif\u001b[0m \u001b[0mname\u001b[0m \u001b[0;34m==\u001b[0m \u001b[0;34m\"Billiard walk\"\u001b[0m\u001b[0;34m:\u001b[0m\u001b[0;34m\u001b[0m\u001b[0;34m\u001b[0m\u001b[0m\n\u001b[0;32m---> 16\u001b[0;31m         \u001b[0msamples\u001b[0m\u001b[0;34m[\u001b[0m\u001b[0mname\u001b[0m\u001b[0;34m]\u001b[0m\u001b[0;34m,\u001b[0m \u001b[0miterations\u001b[0m\u001b[0;34m[\u001b[0m\u001b[0mname\u001b[0m\u001b[0;34m]\u001b[0m\u001b[0;34m,\u001b[0m \u001b[0mess\u001b[0m\u001b[0;34m[\u001b[0m\u001b[0mname\u001b[0m\u001b[0;34m]\u001b[0m\u001b[0;34m,\u001b[0m \u001b[0mtimes\u001b[0m\u001b[0;34m[\u001b[0m\u001b[0mname\u001b[0m\u001b[0;34m]\u001b[0m \u001b[0;34m=\u001b[0m \u001b[0mrun_multiphase_sampling\u001b[0m\u001b[0;34m(\u001b[0m\u001b[0mproposal\u001b[0m\u001b[0;34m=\u001b[0m\u001b[0mp\u001b[0m\u001b[0;34m,\u001b[0m \u001b[0mproblem\u001b[0m\u001b[0;34m=\u001b[0m\u001b[0mproblem\u001b[0m\u001b[0;34m,\u001b[0m \u001b[0mseeds\u001b[0m\u001b[0;34m=\u001b[0m\u001b[0mseeds\u001b[0m\u001b[0;34m,\u001b[0m \u001b[0mtarget_ess\u001b[0m\u001b[0;34m=\u001b[0m\u001b[0mtarget_ess\u001b[0m\u001b[0;34m,\u001b[0m \u001b[0msteps_per_phase\u001b[0m\u001b[0;34m=\u001b[0m\u001b[0msteps_per_phase\u001b[0m\u001b[0;34m,\u001b[0m \u001b[0mstarting_points\u001b[0m\u001b[0;34m=\u001b[0m\u001b[0mstarting_points\u001b[0m\u001b[0;34m)\u001b[0m\u001b[0;34m\u001b[0m\u001b[0;34m\u001b[0m\u001b[0m\n\u001b[0m\u001b[1;32m     17\u001b[0m     \u001b[0;32melse\u001b[0m\u001b[0;34m:\u001b[0m\u001b[0;34m\u001b[0m\u001b[0;34m\u001b[0m\u001b[0m\n\u001b[1;32m     18\u001b[0m         \u001b[0mthinning\u001b[0m \u001b[0;34m=\u001b[0m \u001b[0;36m1\u001b[0m \u001b[0;32mif\u001b[0m \u001b[0mname\u001b[0m \u001b[0;34m!=\u001b[0m \u001b[0;34m'CHRRT'\u001b[0m \u001b[0;32melse\u001b[0m \u001b[0mmax\u001b[0m\u001b[0;34m(\u001b[0m\u001b[0mint\u001b[0m\u001b[0;34m(\u001b[0m\u001b[0mfloat\u001b[0m\u001b[0;34m(\u001b[0m\u001b[0mproblem\u001b[0m\u001b[0;34m.\u001b[0m\u001b[0mA\u001b[0m\u001b[0;34m.\u001b[0m\u001b[0mshape\u001b[0m\u001b[0;34m[\u001b[0m\u001b[0;36m1\u001b[0m\u001b[0;34m]\u001b[0m\u001b[0;34m**\u001b[0m\u001b[0;36m2\u001b[0m\u001b[0;34m)\u001b[0m\u001b[0;34m/\u001b[0m\u001b[0;36m6\u001b[0m\u001b[0;34m)\u001b[0m\u001b[0;34m,\u001b[0m \u001b[0;36m1\u001b[0m\u001b[0;34m)\u001b[0m\u001b[0;34m\u001b[0m\u001b[0;34m\u001b[0m\u001b[0m\n",
      "\u001b[0;32m<ipython-input-190-ceac5582dc8a>\u001b[0m in \u001b[0;36mrun_multiphase_sampling\u001b[0;34m(proposal, problem, seeds, target_ess, steps_per_phase, starting_points)\u001b[0m\n\u001b[1;32m     21\u001b[0m             \u001b[0;31m# also measures the rounding time\u001b[0m\u001b[0;34m\u001b[0m\u001b[0;34m\u001b[0m\u001b[0;34m\u001b[0m\u001b[0m\n\u001b[1;32m     22\u001b[0m             \u001b[0mstart\u001b[0m \u001b[0;34m=\u001b[0m \u001b[0mtime\u001b[0m\u001b[0;34m.\u001b[0m\u001b[0mtime\u001b[0m\u001b[0;34m(\u001b[0m\u001b[0;34m)\u001b[0m\u001b[0;34m\u001b[0m\u001b[0;34m\u001b[0m\u001b[0m\n\u001b[0;32m---> 23\u001b[0;31m             \u001b[0ms_ratio\u001b[0m\u001b[0;34m,\u001b[0m \u001b[0mstarting_points\u001b[0m\u001b[0;34m,\u001b[0m \u001b[0mproblem\u001b[0m \u001b[0;34m=\u001b[0m \u001b[0msvd_rounding\u001b[0m\u001b[0;34m(\u001b[0m\u001b[0m_samples\u001b[0m\u001b[0;34m,\u001b[0m \u001b[0mproblem\u001b[0m\u001b[0;34m)\u001b[0m\u001b[0;34m\u001b[0m\u001b[0;34m\u001b[0m\u001b[0m\n\u001b[0m\u001b[1;32m     24\u001b[0m             \u001b[0mend\u001b[0m \u001b[0;34m=\u001b[0m \u001b[0mtime\u001b[0m\u001b[0;34m.\u001b[0m\u001b[0mtime\u001b[0m\u001b[0;34m(\u001b[0m\u001b[0;34m)\u001b[0m\u001b[0;34m\u001b[0m\u001b[0;34m\u001b[0m\u001b[0m\n\u001b[1;32m     25\u001b[0m             \u001b[0msampling_time\u001b[0m \u001b[0;34m+=\u001b[0m \u001b[0mend\u001b[0m\u001b[0;34m-\u001b[0m\u001b[0mstart\u001b[0m\u001b[0;34m\u001b[0m\u001b[0;34m\u001b[0m\u001b[0m\n",
      "\u001b[0;32m<ipython-input-188-3f8232cb43ab>\u001b[0m in \u001b[0;36msvd_rounding\u001b[0;34m(samples, problem)\u001b[0m\n\u001b[1;32m      9\u001b[0m     \u001b[0mstacked_samples\u001b[0m \u001b[0;34m=\u001b[0m \u001b[0mnp\u001b[0m\u001b[0;34m.\u001b[0m\u001b[0mconcatenate\u001b[0m\u001b[0;34m(\u001b[0m\u001b[0msamples\u001b[0m\u001b[0;34m,\u001b[0m \u001b[0maxis\u001b[0m\u001b[0;34m=\u001b[0m\u001b[0;36m0\u001b[0m\u001b[0;34m)\u001b[0m\u001b[0;34m\u001b[0m\u001b[0;34m\u001b[0m\u001b[0m\n\u001b[1;32m     10\u001b[0m     \u001b[0mprint\u001b[0m\u001b[0;34m(\u001b[0m\u001b[0;34m's'\u001b[0m\u001b[0;34m,\u001b[0m \u001b[0mstacked_samples\u001b[0m\u001b[0;34m.\u001b[0m\u001b[0mshape\u001b[0m\u001b[0;34m)\u001b[0m\u001b[0;34m\u001b[0m\u001b[0;34m\u001b[0m\u001b[0m\n\u001b[0;32m---> 11\u001b[0;31m     \u001b[0mstacked_samples\u001b[0m \u001b[0;34m=\u001b[0m \u001b[0mhopsy\u001b[0m\u001b[0;34m.\u001b[0m\u001b[0mtransform\u001b[0m\u001b[0;34m(\u001b[0m\u001b[0mproblem\u001b[0m\u001b[0;34m,\u001b[0m \u001b[0;34m[\u001b[0m\u001b[0mstacked_samples\u001b[0m\u001b[0;34m[\u001b[0m\u001b[0mi\u001b[0m\u001b[0;34m,\u001b[0m\u001b[0;34m:\u001b[0m\u001b[0;34m]\u001b[0m\u001b[0;34m.\u001b[0m\u001b[0mflatten\u001b[0m\u001b[0;34m(\u001b[0m\u001b[0;34m)\u001b[0m \u001b[0;32mfor\u001b[0m \u001b[0mi\u001b[0m \u001b[0;32min\u001b[0m \u001b[0mrange\u001b[0m\u001b[0;34m(\u001b[0m\u001b[0mstacked_samples\u001b[0m\u001b[0;34m.\u001b[0m\u001b[0mshape\u001b[0m\u001b[0;34m[\u001b[0m\u001b[0;36m0\u001b[0m\u001b[0;34m]\u001b[0m\u001b[0;34m)\u001b[0m\u001b[0;34m]\u001b[0m\u001b[0;34m)\u001b[0m\u001b[0;34m\u001b[0m\u001b[0;34m\u001b[0m\u001b[0m\n\u001b[0m\u001b[1;32m     12\u001b[0m     \u001b[0mprint\u001b[0m\u001b[0;34m(\u001b[0m\u001b[0;34m\"s'\"\u001b[0m\u001b[0;34m,\u001b[0m \u001b[0mstacked_samples\u001b[0m\u001b[0;34m.\u001b[0m\u001b[0mshape\u001b[0m\u001b[0;34m)\u001b[0m\u001b[0;34m\u001b[0m\u001b[0;34m\u001b[0m\u001b[0m\n\u001b[1;32m     13\u001b[0m     \u001b[0mU\u001b[0m\u001b[0;34m,\u001b[0m \u001b[0mS\u001b[0m\u001b[0;34m,\u001b[0m \u001b[0mVh\u001b[0m \u001b[0;34m=\u001b[0m \u001b[0mnp\u001b[0m\u001b[0;34m.\u001b[0m\u001b[0mlinalg\u001b[0m\u001b[0;34m.\u001b[0m\u001b[0msvd\u001b[0m\u001b[0;34m(\u001b[0m\u001b[0mstacked_samples\u001b[0m\u001b[0;34m)\u001b[0m\u001b[0;34m\u001b[0m\u001b[0;34m\u001b[0m\u001b[0m\n",
      "\u001b[0;32m~/.local/lib/python3.8/site-packages/hopsy/misc.py\u001b[0m in \u001b[0;36mtransform\u001b[0;34m(problem, points)\u001b[0m\n\u001b[1;32m    379\u001b[0m         \u001b[0m_point\u001b[0m \u001b[0;34m=\u001b[0m \u001b[0mpoint\u001b[0m \u001b[0;34m-\u001b[0m \u001b[0mproblem\u001b[0m\u001b[0;34m.\u001b[0m\u001b[0mshift\u001b[0m \u001b[0;32mif\u001b[0m \u001b[0mproblem\u001b[0m\u001b[0;34m.\u001b[0m\u001b[0mshift\u001b[0m \u001b[0;32mis\u001b[0m \u001b[0;32mnot\u001b[0m \u001b[0;32mNone\u001b[0m \u001b[0;32melse\u001b[0m \u001b[0mpoint\u001b[0m\u001b[0;34m\u001b[0m\u001b[0;34m\u001b[0m\u001b[0m\n\u001b[1;32m    380\u001b[0m         _point = (\n\u001b[0;32m--> 381\u001b[0;31m             \u001b[0m_s\u001b[0m\u001b[0;34m.\u001b[0m\u001b[0mnumpy\u001b[0m\u001b[0;34m.\u001b[0m\u001b[0mlinalg\u001b[0m\u001b[0;34m.\u001b[0m\u001b[0msolve\u001b[0m\u001b[0;34m(\u001b[0m\u001b[0mproblem\u001b[0m\u001b[0;34m.\u001b[0m\u001b[0mtransformation\u001b[0m\u001b[0;34m,\u001b[0m \u001b[0m_point\u001b[0m\u001b[0;34m)\u001b[0m\u001b[0;34m\u001b[0m\u001b[0;34m\u001b[0m\u001b[0m\n\u001b[0m\u001b[1;32m    382\u001b[0m             \u001b[0;32mif\u001b[0m \u001b[0mproblem\u001b[0m\u001b[0;34m.\u001b[0m\u001b[0mtransformation\u001b[0m \u001b[0;32mis\u001b[0m \u001b[0;32mnot\u001b[0m \u001b[0;32mNone\u001b[0m\u001b[0;34m\u001b[0m\u001b[0;34m\u001b[0m\u001b[0m\n\u001b[1;32m    383\u001b[0m             \u001b[0;32melse\u001b[0m \u001b[0m_point\u001b[0m\u001b[0;34m\u001b[0m\u001b[0;34m\u001b[0m\u001b[0m\n",
      "\u001b[0;32m~/.local/lib/python3.8/site-packages/numpy/core/overrides.py\u001b[0m in \u001b[0;36msolve\u001b[0;34m(*args, **kwargs)\u001b[0m\n",
      "\u001b[0;32m~/.local/lib/python3.8/site-packages/numpy/linalg/linalg.py\u001b[0m in \u001b[0;36msolve\u001b[0;34m(a, b)\u001b[0m\n\u001b[1;32m    385\u001b[0m     \u001b[0ma\u001b[0m\u001b[0;34m,\u001b[0m \u001b[0m_\u001b[0m \u001b[0;34m=\u001b[0m \u001b[0m_makearray\u001b[0m\u001b[0;34m(\u001b[0m\u001b[0ma\u001b[0m\u001b[0;34m)\u001b[0m\u001b[0;34m\u001b[0m\u001b[0;34m\u001b[0m\u001b[0m\n\u001b[1;32m    386\u001b[0m     \u001b[0m_assert_stacked_2d\u001b[0m\u001b[0;34m(\u001b[0m\u001b[0ma\u001b[0m\u001b[0;34m)\u001b[0m\u001b[0;34m\u001b[0m\u001b[0;34m\u001b[0m\u001b[0m\n\u001b[0;32m--> 387\u001b[0;31m     \u001b[0m_assert_stacked_square\u001b[0m\u001b[0;34m(\u001b[0m\u001b[0ma\u001b[0m\u001b[0;34m)\u001b[0m\u001b[0;34m\u001b[0m\u001b[0;34m\u001b[0m\u001b[0m\n\u001b[0m\u001b[1;32m    388\u001b[0m     \u001b[0mb\u001b[0m\u001b[0;34m,\u001b[0m \u001b[0mwrap\u001b[0m \u001b[0;34m=\u001b[0m \u001b[0m_makearray\u001b[0m\u001b[0;34m(\u001b[0m\u001b[0mb\u001b[0m\u001b[0;34m)\u001b[0m\u001b[0;34m\u001b[0m\u001b[0;34m\u001b[0m\u001b[0m\n\u001b[1;32m    389\u001b[0m     \u001b[0mt\u001b[0m\u001b[0;34m,\u001b[0m \u001b[0mresult_t\u001b[0m \u001b[0;34m=\u001b[0m \u001b[0m_commonType\u001b[0m\u001b[0;34m(\u001b[0m\u001b[0ma\u001b[0m\u001b[0;34m,\u001b[0m \u001b[0mb\u001b[0m\u001b[0;34m)\u001b[0m\u001b[0;34m\u001b[0m\u001b[0;34m\u001b[0m\u001b[0m\n",
      "\u001b[0;32m~/.local/lib/python3.8/site-packages/numpy/linalg/linalg.py\u001b[0m in \u001b[0;36m_assert_stacked_square\u001b[0;34m(*arrays)\u001b[0m\n\u001b[1;32m    202\u001b[0m         \u001b[0mm\u001b[0m\u001b[0;34m,\u001b[0m \u001b[0mn\u001b[0m \u001b[0;34m=\u001b[0m \u001b[0ma\u001b[0m\u001b[0;34m.\u001b[0m\u001b[0mshape\u001b[0m\u001b[0;34m[\u001b[0m\u001b[0;34m-\u001b[0m\u001b[0;36m2\u001b[0m\u001b[0;34m:\u001b[0m\u001b[0;34m]\u001b[0m\u001b[0;34m\u001b[0m\u001b[0;34m\u001b[0m\u001b[0m\n\u001b[1;32m    203\u001b[0m         \u001b[0;32mif\u001b[0m \u001b[0mm\u001b[0m \u001b[0;34m!=\u001b[0m \u001b[0mn\u001b[0m\u001b[0;34m:\u001b[0m\u001b[0;34m\u001b[0m\u001b[0;34m\u001b[0m\u001b[0m\n\u001b[0;32m--> 204\u001b[0;31m             \u001b[0;32mraise\u001b[0m \u001b[0mLinAlgError\u001b[0m\u001b[0;34m(\u001b[0m\u001b[0;34m'Last 2 dimensions of the array must be square'\u001b[0m\u001b[0;34m)\u001b[0m\u001b[0;34m\u001b[0m\u001b[0;34m\u001b[0m\u001b[0m\n\u001b[0m\u001b[1;32m    205\u001b[0m \u001b[0;34m\u001b[0m\u001b[0m\n\u001b[1;32m    206\u001b[0m \u001b[0;32mdef\u001b[0m \u001b[0m_assert_finite\u001b[0m\u001b[0;34m(\u001b[0m\u001b[0;34m*\u001b[0m\u001b[0marrays\u001b[0m\u001b[0;34m)\u001b[0m\u001b[0;34m:\u001b[0m\u001b[0;34m\u001b[0m\u001b[0;34m\u001b[0m\u001b[0m\n",
      "\u001b[0;31mLinAlgError\u001b[0m: Last 2 dimensions of the array must be square"
     ]
    }
   ],
   "source": [
    "samples = {}\n",
    "iterations = {}\n",
    "ess = {}\n",
    "times = {}\n",
    "ess_t = {}\n",
    "\n",
    "for name, p in proposalTypes.items():\n",
    "    print('running benchmark for', name)\n",
    "    # resets problem and starting points\n",
    "    problem = generate_problem('e_coli')\n",
    "    steps_per_phase = problem.A.shape[1] * 20\n",
    "    cheby = hopsy.compute_chebyshev_center(problem).flatten()\n",
    "    starting_points = [cheby for s in seeds]\n",
    "\n",
    "    if name == \"Billiard walk\":\n",
    "        samples[name], iterations[name], ess[name], times[name] = run_multiphase_sampling(proposal=p, problem=problem, seeds=seeds, target_ess=target_ess, steps_per_phase=steps_per_phase, starting_points=starting_points)\n",
    "    else: \n",
    "        thinning = 1 if name != 'CHRRT' else max(int(float(problem.A.shape[1]**2)/6), 1)\n",
    "        samples[name], iterations[name], ess[name], times[name] = run_sampling(proposal=p, problem=problem, seeds=seeds, target_ess=target_ess, steps_per_phase=steps_per_phase, starting_points=starting_points, thinning=thinning)\n",
    "    ess_t[name] = ess[name] / times[name]"
   ]
  },
  {
   "cell_type": "code",
   "execution_count": null,
   "metadata": {},
   "outputs": [],
   "source": [
    "# check convergence\n",
    "for name, s in samples.items():\n",
    "    print(name, 'rhat:', np.max(hopsy.rhat(s)))"
   ]
  },
  {
   "cell_type": "code",
   "execution_count": null,
   "metadata": {},
   "outputs": [],
   "source": [
    "print('ess',ess)\n",
    "print('times',times)\n",
    "print('ess/t', ess_t)"
   ]
  },
  {
   "cell_type": "code",
   "execution_count": null,
   "metadata": {},
   "outputs": [],
   "source": [
    "# plot settings\n",
    "title_fs = 32\n",
    "label_fs = 20\n",
    "tick_fs = 16\n",
    "legend_fs = 16\n",
    "img_format = 'pdf' # svg"
   ]
  },
  {
   "cell_type": "code",
   "execution_count": null,
   "metadata": {},
   "outputs": [],
   "source": [
    "plt.figure(figsize=(1.5*6.4,8))\n",
    "plt.title('Benchmark results', fontsize=title_fs)\n",
    "\n",
    "X_ticks = [r'5D Birkhoff Polytope']\n",
    "\n",
    "X_axis = np.arange(len(X_ticks))\n",
    "plt.bar(X_axis-.2, ess_t['Billiard walk'], 0.2, hatch='/', label='Multiphase Billiard walk')\n",
    "plt.bar(X_axis-.0, ess_t['CHRRT'], 0.2, hatch='o', label='CHRRT')\n",
    "plt.bar(X_axis+.2, ess_t['OHRR'], 0.2, hatch='-', label='OHRR')\n",
    "\n",
    "\n",
    "\n",
    "# plt.xticks(rotation=90)\n",
    "plt.ylabel(r'$\\frac{\\mathit{ESS}}{t} [\\frac{1}{s}]$', fontsize=label_fs)\n",
    "plt.xlabel(r'Benchmark Problem', fontsize=label_fs)\n",
    "plt.xticks(X_axis, X_ticks, fontsize=tick_fs)\n",
    "plt.yticks(fontsize=tick_fs)\n",
    "\n",
    "# plt.grid()\n",
    "\n",
    "plt.tight_layout()\n",
    "\n",
    "plt.legend(fontsize=legend_fs)\n",
    "plt.savefig('Benchmarking_multiphase_mcmc.pdf')\n",
    "plt.show()"
   ]
  },
  {
   "cell_type": "code",
   "execution_count": null,
   "metadata": {},
   "outputs": [],
   "source": [
    "plt.figure(figsize=(1.5*6.4,8))\n",
    "plt.title('Runtime results', fontsize=title_fs)\n",
    "\n",
    "X_ticks = [r'5D Birkhoff Polytope']\n",
    "\n",
    "X_axis = np.arange(len(X_ticks))\n",
    "plt.bar(X_axis-.2, times['Billiard walk'], 0.2, hatch='/', label='Multiphase Billiard walk')\n",
    "plt.bar(X_axis-.0, times['CHRRT'], 0.2, hatch='o', label='CHRRT')\n",
    "plt.bar(X_axis+.2, times['OHRR'], 0.2, hatch='-', label='OHRR')\n",
    "\n",
    "\n",
    "# plt.xticks(rotation=90)\n",
    "plt.ylabel(r'$s$', fontsize=label_fs)\n",
    "plt.xlabel(r'Benchmark Problem', fontsize=label_fs)\n",
    "plt.xticks(X_axis, X_ticks, fontsize=tick_fs)\n",
    "plt.yticks(fontsize=tick_fs)\n",
    "\n",
    "plt.tight_layout()\n",
    "\n",
    "plt.legend(fontsize=legend_fs)\n",
    "plt.savefig('Benchmarking_multiphase_mcmc.pdf')\n",
    "plt.show()"
   ]
  },
  {
   "cell_type": "code",
   "execution_count": 193,
   "metadata": {},
   "outputs": [
    {
     "ename": "KeyError",
     "evalue": "'Billiard walk'",
     "output_type": "error",
     "traceback": [
      "\u001b[0;31m---------------------------------------------------------------------------\u001b[0m",
      "\u001b[0;31mKeyError\u001b[0m                                  Traceback (most recent call last)",
      "\u001b[0;32m<ipython-input-193-67a884d271e6>\u001b[0m in \u001b[0;36m<module>\u001b[0;34m\u001b[0m\n\u001b[1;32m      5\u001b[0m     \u001b[0mplt\u001b[0m\u001b[0;34m.\u001b[0m\u001b[0msubplot\u001b[0m\u001b[0;34m(\u001b[0m\u001b[0;36m4\u001b[0m\u001b[0;34m,\u001b[0m \u001b[0;36m4\u001b[0m\u001b[0;34m,\u001b[0m \u001b[0mdim\u001b[0m\u001b[0;34m+\u001b[0m\u001b[0;36m1\u001b[0m\u001b[0;34m)\u001b[0m\u001b[0;34m\u001b[0m\u001b[0;34m\u001b[0m\u001b[0m\n\u001b[1;32m      6\u001b[0m     \u001b[0mplt\u001b[0m\u001b[0;34m.\u001b[0m\u001b[0mtitle\u001b[0m\u001b[0;34m(\u001b[0m\u001b[0;34mf'Density for x{dim}'\u001b[0m\u001b[0;34m,\u001b[0m \u001b[0mfontsize\u001b[0m\u001b[0;34m=\u001b[0m\u001b[0mtitle_fs\u001b[0m\u001b[0;34m-\u001b[0m\u001b[0;36m2\u001b[0m\u001b[0;34m)\u001b[0m\u001b[0;34m\u001b[0m\u001b[0;34m\u001b[0m\u001b[0m\n\u001b[0;32m----> 7\u001b[0;31m     \u001b[0m_\u001b[0m\u001b[0;34m,\u001b[0m \u001b[0mbins\u001b[0m\u001b[0;34m,\u001b[0m \u001b[0m_\u001b[0m \u001b[0;34m=\u001b[0m \u001b[0mplt\u001b[0m\u001b[0;34m.\u001b[0m\u001b[0mhist\u001b[0m\u001b[0;34m(\u001b[0m\u001b[0mnp\u001b[0m\u001b[0;34m.\u001b[0m\u001b[0mconcatenate\u001b[0m\u001b[0;34m(\u001b[0m\u001b[0msamples\u001b[0m\u001b[0;34m[\u001b[0m\u001b[0;34m'Billiard walk'\u001b[0m\u001b[0;34m]\u001b[0m\u001b[0;34m,\u001b[0m \u001b[0maxis\u001b[0m\u001b[0;34m=\u001b[0m\u001b[0;36m0\u001b[0m\u001b[0;34m)\u001b[0m\u001b[0;34m[\u001b[0m\u001b[0;34m:\u001b[0m\u001b[0;34m,\u001b[0m \u001b[0mdim\u001b[0m\u001b[0;34m]\u001b[0m\u001b[0;34m,\u001b[0m \u001b[0mbins\u001b[0m\u001b[0;34m=\u001b[0m\u001b[0;36m100\u001b[0m\u001b[0;34m,\u001b[0m \u001b[0mdensity\u001b[0m\u001b[0;34m=\u001b[0m\u001b[0;32mTrue\u001b[0m\u001b[0;34m,\u001b[0m \u001b[0mlabel\u001b[0m\u001b[0;34m=\u001b[0m\u001b[0;34m'Multiphase Billiard Walk'\u001b[0m \u001b[0;32mif\u001b[0m \u001b[0mdim\u001b[0m \u001b[0;34m==\u001b[0m \u001b[0;36m0\u001b[0m \u001b[0;32melse\u001b[0m \u001b[0;32mNone\u001b[0m\u001b[0;34m,\u001b[0m \u001b[0malpha\u001b[0m\u001b[0;34m=\u001b[0m\u001b[0;36m0.75\u001b[0m\u001b[0;34m,\u001b[0m \u001b[0mcolor\u001b[0m\u001b[0;34m=\u001b[0m\u001b[0;34m'C0'\u001b[0m\u001b[0;34m)\u001b[0m\u001b[0;34m\u001b[0m\u001b[0;34m\u001b[0m\u001b[0m\n\u001b[0m\u001b[1;32m      8\u001b[0m     \u001b[0;31m# _ = plt.hist(np.concatenate(samples['CHRR'], axis=0)[:, dim], bins=bins, alpha=0.5, density=True, label='CHRR' if dim == 0 else None, color='C1')\u001b[0m\u001b[0;34m\u001b[0m\u001b[0;34m\u001b[0m\u001b[0;34m\u001b[0m\u001b[0m\n\u001b[1;32m      9\u001b[0m     \u001b[0m_\u001b[0m \u001b[0;34m=\u001b[0m \u001b[0mplt\u001b[0m\u001b[0;34m.\u001b[0m\u001b[0mhist\u001b[0m\u001b[0;34m(\u001b[0m\u001b[0mnp\u001b[0m\u001b[0;34m.\u001b[0m\u001b[0mconcatenate\u001b[0m\u001b[0;34m(\u001b[0m\u001b[0msamples\u001b[0m\u001b[0;34m[\u001b[0m\u001b[0;34m'CHRRT'\u001b[0m\u001b[0;34m]\u001b[0m\u001b[0;34m,\u001b[0m \u001b[0maxis\u001b[0m\u001b[0;34m=\u001b[0m\u001b[0;36m0\u001b[0m\u001b[0;34m)\u001b[0m\u001b[0;34m[\u001b[0m\u001b[0;34m:\u001b[0m\u001b[0;34m,\u001b[0m \u001b[0mdim\u001b[0m\u001b[0;34m]\u001b[0m\u001b[0;34m,\u001b[0m \u001b[0mbins\u001b[0m\u001b[0;34m=\u001b[0m\u001b[0mbins\u001b[0m\u001b[0;34m,\u001b[0m \u001b[0malpha\u001b[0m\u001b[0;34m=\u001b[0m\u001b[0;36m0.25\u001b[0m\u001b[0;34m,\u001b[0m \u001b[0mdensity\u001b[0m\u001b[0;34m=\u001b[0m\u001b[0;32mTrue\u001b[0m\u001b[0;34m,\u001b[0m \u001b[0mlabel\u001b[0m\u001b[0;34m=\u001b[0m\u001b[0;34m'CHRRT'\u001b[0m \u001b[0;32mif\u001b[0m \u001b[0mdim\u001b[0m \u001b[0;34m==\u001b[0m \u001b[0;36m0\u001b[0m \u001b[0;32melse\u001b[0m \u001b[0;32mNone\u001b[0m\u001b[0;34m,\u001b[0m \u001b[0mcolor\u001b[0m\u001b[0;34m=\u001b[0m\u001b[0;34m'C1'\u001b[0m\u001b[0;34m)\u001b[0m\u001b[0;34m\u001b[0m\u001b[0;34m\u001b[0m\u001b[0m\n",
      "\u001b[0;31mKeyError\u001b[0m: 'Billiard walk'"
     ]
    },
    {
     "data": {
      "image/png": "[encoded data removed]",
      "text/plain": [
       "<Figure size 2764.8x2304 with 1 Axes>"
      ]
     },
     "metadata": {
      "needs_background": "light"
     },
     "output_type": "display_data"
    }
   ],
   "source": [
    "plt.figure(figsize=(4*1.5*6.4,4*8))\n",
    "plt.subplot(4, 4, 1)\n",
    "plt.suptitle(f'Marginal densities', y=1.01, fontsize=title_fs)\n",
    "for dim in range(bp.A.shape[1]):\n",
    "    plt.subplot(4, 4, dim+1)\n",
    "    plt.title(f'Density for x{dim}', fontsize=title_fs-2)\n",
    "    _, bins, _ = plt.hist(np.concatenate(samples['Billiard walk'], axis=0)[:, dim], bins=100, density=True, label='Multiphase Billiard Walk' if dim == 0 else None, alpha=0.75, color='C0')\n",
    "    # _ = plt.hist(np.concatenate(samples['CHRR'], axis=0)[:, dim], bins=bins, alpha=0.5, density=True, label='CHRR' if dim == 0 else None, color='C1')\n",
    "    _ = plt.hist(np.concatenate(samples['CHRRT'], axis=0)[:, dim], bins=bins, alpha=0.25, density=True, label='CHRRT' if dim == 0 else None, color='C1')\n",
    "    _ = plt.hist(np.concatenate(samples['OHRR'], axis=0)[:, dim], bins=bins, alpha=0.25, density=True, label='OHRR' if dim == 0 else None, color='C2')\n",
    "    # plt.ylabel(r'$s$', fontsize=label_fs)\n",
    "    # plt.xlabel(r'Benchmark Problem', fontsize=label_fs)\n",
    "    plt.xticks(fontsize=tick_fs)\n",
    "    plt.yticks(fontsize=tick_fs)\n",
    "\n",
    "# plt.grid()\n",
    "\n",
    "plt.tight_layout()\n",
    "\n",
    "plt.figlegend(fontsize=legend_fs)\n",
    "plt.tight_layout()\n",
    "plt.show()"
   ]
  },
  {
   "cell_type": "code",
   "execution_count": null,
   "metadata": {},
   "outputs": [],
   "source": []
  }
 ],
 "metadata": {
  "kernelspec": {
   "display_name": "Python 3",
   "language": "python",
   "name": "python3"
  },
  "language_info": {
   "codemirror_mode": {
    "name": "ipython",
    "version": 3
   },
   "file_extension": ".py",
   "mimetype": "text/x-python",
   "name": "python",
   "nbconvert_exporter": "python",
   "pygments_lexer": "ipython3",
   "version": "3.8.10"
  }
 },
 "nbformat": 4,
 "nbformat_minor": 4
}
