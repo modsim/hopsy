{
 "cells": [
  {
   "cell_type": "code",
   "execution_count": 1,
   "id": "initial_id",
   "metadata": {
    "ExecuteTime": {
     "end_time": "2024-04-21T00:53:31.936256Z",
     "start_time": "2024-04-21T00:53:31.834139Z"
    }
   },
   "outputs": [],
   "source": [
    "import hopsy\n",
    "import PolyRound\n",
    "import numpy as np\n",
    "import matplotlib.pyplot as plt\n",
    "import time"
   ]
  },
  {
   "cell_type": "code",
   "execution_count": 2,
   "id": "6644291dacf8b8ca",
   "metadata": {
    "collapsed": false,
    "jupyter": {
     "outputs_hidden": false
    }
   },
   "outputs": [
    {
     "name": "stdout",
     "output_type": "stream",
     "text": [
      "Set parameter Username\n",
      "Academic license - for non-commercial use only - expires 2025-03-22\n"
     ]
    }
   ],
   "source": [
    "original_polytope = PolyRound.static_classes.parse_sbml_stoichiometry.StoichiometryParser.parse_sbml_cobrapy(\"../extern/hops/resources/e_coli_core/e_coli_core.xml\")\n",
    "polytope = PolyRound.api.PolyRoundApi.simplify_polytope(original_polytope)\n",
    "polytope = PolyRound.api.PolyRoundApi.transform_polytope(polytope)\n",
    "polytope.normalize()"
   ]
  },
  {
   "cell_type": "code",
   "execution_count": 3,
   "id": "40a8d38c-4dc8-4693-bfa2-3e241104cdc3",
   "metadata": {},
   "outputs": [],
   "source": [
    "replicates = 3\n",
    "n_chains = 20\n",
    "\n",
    "max_log_n_samples = 8\n",
    "thin = 1\n",
    "times = {}"
   ]
  },
  {
   "cell_type": "code",
   "execution_count": 4,
   "id": "7ebe6c5f-2e58-4cef-8d98-fc2e282a928e",
   "metadata": {},
   "outputs": [],
   "source": [
    "p = hopsy.round(hopsy.Problem(polytope.A, polytope.b))\n",
    "\n",
    "for i in range(replicates):\n",
    "\n",
    "    s = hopsy.compute_chebyshev_center(p)\n",
    "    markov_chains = [\n",
    "        hopsy.MarkovChain(problem=p, starting_point=s)\n",
    "        for i in range(n_chains)\n",
    "    ]\n",
    "    rngs = [hopsy.RandomNumberGenerator(i) for i in range(n_chains)]"
   ]
  },
  {
   "cell_type": "code",
   "execution_count": null,
   "id": "707d3e82-0fbf-4ef2-9dc1-50931609f0a5",
   "metadata": {},
   "outputs": [
    {
     "name": "stdout",
     "output_type": "stream",
     "text": [
      "1 : 0.2198675799979052\n",
      "2 : 0.2740902796698113\n",
      "3 : 0.20827976200477374\n",
      "4 : 0.22025225133499285\n",
      "5 : 0.5074554303331146\n",
      "6 : 3.1844185713319653\n"
     ]
    }
   ],
   "source": [
    "for n in range(1, max_log_n_samples):\n",
    "    times[n] = []\n",
    "    for i in range(replicates):\n",
    "        start = time.perf_counter()\n",
    "        _, samples = hopsy.sample(\n",
    "            markov_chains, rngs, n_samples=int(10**n/10), thinning=10, n_procs=n_chains\n",
    "        )\n",
    "        del samples\n",
    "        end = time.perf_counter()\n",
    "        times[n].append(end-start)\n",
    "    times[n] = np.mean(times[n])\n",
    "    print(n, \":\", np.mean(times[n]))"
   ]
  },
  {
   "cell_type": "code",
   "execution_count": null,
   "id": "ebaf35cf-eb89-468d-aaf8-647de511e8ae",
   "metadata": {},
   "outputs": [],
   "source": [
    "print(times)"
   ]
  },
  {
   "cell_type": "code",
   "execution_count": null,
   "id": "4640843f-bea3-412c-b71b-0d0f8191a860",
   "metadata": {},
   "outputs": [],
   "source": [
    "plt.plot(times.keys(), times.values())"
   ]
  },
  {
   "cell_type": "code",
   "execution_count": null,
   "id": "c85e53ab-6881-42bf-ac14-8262969d8cfd",
   "metadata": {},
   "outputs": [],
   "source": [
    "times_ = {}\n",
    "for n in range(1, max_log_n_samples-1):\n",
    "    times_[n] = []\n",
    "    for i in range(replicates):\n",
    "        start = time.perf_counter()\n",
    "        _, samples = hopsy.sample(\n",
    "            markov_chains, rngs, n_samples=int(10**n), thinning=1, n_procs=n_chains\n",
    "        )\n",
    "        del samples\n",
    "        end = time.perf_counter()\n",
    "        times_[n].append(end-start)\n",
    "    times_[n] = np.mean(times_[n])\n",
    "    print(n, \":\", np.mean(times_[n]))"
   ]
  },
  {
   "cell_type": "code",
   "execution_count": null,
   "id": "ef3abb9e-507a-4e9a-956f-a7e7506de2f0",
   "metadata": {},
   "outputs": [],
   "source": [
    "\n",
    "plt.plot(times_.keys(), times_.values())"
   ]
  },
  {
   "cell_type": "code",
   "execution_count": null,
   "id": "2124abe1-f5b9-4918-8e69-27f4d324bfbb",
   "metadata": {},
   "outputs": [],
   "source": []
  }
 ],
 "metadata": {
  "kernelspec": {
   "display_name": "Python 3 (ipykernel)",
   "language": "python",
   "name": "python3"
  },
  "language_info": {
   "codemirror_mode": {
    "name": "ipython",
    "version": 3
   },
   "file_extension": ".py",
   "mimetype": "text/x-python",
   "name": "python",
   "nbconvert_exporter": "python",
   "pygments_lexer": "ipython3",
   "version": "3.11.8"
  }
 },
 "nbformat": 4,
 "nbformat_minor": 5
}
