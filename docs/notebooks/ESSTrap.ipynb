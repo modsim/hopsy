{
 "cells": [
  {
   "cell_type": "markdown",
   "id": "13d838bf-e478-4b80-989e-a26d1c7b1db4",
   "metadata": {},
   "source": [
    "#  The ESS trap\n",
    "There is a strange issue when computing ess, which might mess up \"sample until ess > limit\" loops"
   ]
  },
  {
   "cell_type": "markdown",
   "id": "14592eb8-d0e0-40eb-a930-2fc9f8c4e9cf",
   "metadata": {},
   "source": [
    "# Trap"
   ]
  },
  {
   "cell_type": "code",
   "execution_count": 1,
   "id": "52653e6e-89da-4d0c-aaf2-d83ff998f932",
   "metadata": {
    "tags": []
   },
   "outputs": [
    {
     "ename": "SyntaxError",
     "evalue": "invalid syntax (1748312419.py, line 1)",
     "output_type": "error",
     "traceback": [
      "\u001b[0;36m  Cell \u001b[0;32mIn[1], line 1\u001b[0;36m\u001b[0m\n\u001b[0;31m    trap code\u001b[0m\n\u001b[0m         ^\u001b[0m\n\u001b[0;31mSyntaxError\u001b[0m\u001b[0;31m:\u001b[0m invalid syntax\n"
     ]
    }
   ],
   "source": [
    "trap code"
   ]
  },
  {
   "cell_type": "code",
   "execution_count": null,
   "id": "2bb6e88c-f2f7-4598-83c2-0d8a5244efbc",
   "metadata": {},
   "outputs": [],
   "source": []
  }
 ],
 "metadata": {
  "kernelspec": {
   "display_name": "Python 3 (ipykernel)",
   "language": "python",
   "name": "python3"
  },
  "language_info": {
   "codemirror_mode": {
    "name": "ipython",
    "version": 3
   },
   "file_extension": ".py",
   "mimetype": "text/x-python",
   "name": "python",
   "nbconvert_exporter": "python",
   "pygments_lexer": "ipython3",
   "version": "3.10.12"
  }
 },
 "nbformat": 4,
 "nbformat_minor": 5
}
